{
 "cells": [
  {
   "cell_type": "code",
   "execution_count": 1,
   "metadata": {},
   "outputs": [
    {
     "name": "stdout",
     "output_type": "stream",
     "text": [
      "gitrepository\n",
      "ieoiogtrpstry\n"
     ]
    }
   ],
   "source": [
    "#6. Given a string, return a string of the same length where the vowels are in the firstand the consonants are in the last. But the inner order of vowels and consonants should not change.\n",
    "s= input()\n",
    " \n",
    "vowels = None\n",
    "consonants = None\n",
    "s=s.lower()\n",
    "for i in s:\n",
    "    if i == 'a' or i == 'e' or i == 'i' or i == 'o' or i == 'u':\n",
    "        if vowels == None:\n",
    "            vowels=i\n",
    "        else:\n",
    "            vowels+=i\n",
    "    else:\n",
    "        if consonants == None:\n",
    "            consonants=i\n",
    "        else:\n",
    "            consonants+=i\n",
    "            \n",
    "\n",
    "ans = vowels+consonants\n",
    "print(ans)"
   ]
  },
  {
   "cell_type": "code",
   "execution_count": null,
   "metadata": {},
   "outputs": [],
   "source": []
  }
 ],
 "metadata": {
  "kernelspec": {
   "display_name": "Python 3",
   "language": "python",
   "name": "python3"
  },
  "language_info": {
   "codemirror_mode": {
    "name": "ipython",
    "version": 3
   },
   "file_extension": ".py",
   "mimetype": "text/x-python",
   "name": "python",
   "nbconvert_exporter": "python",
   "pygments_lexer": "ipython3",
   "version": "3.7.6"
  }
 },
 "nbformat": 4,
 "nbformat_minor": 4
}
