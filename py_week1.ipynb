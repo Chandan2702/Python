{
 "cells": [
  {
   "cell_type": "code",
   "execution_count": 1,
   "metadata": {},
   "outputs": [
    {
     "name": "stdout",
     "output_type": "stream",
     "text": [
      "(12.3+4j)\n"
     ]
    }
   ],
   "source": [
    "#1. Q: What is 7.3 plus 5+4j?\n",
    "a= 7.3+(5+4j)\n",
    "print(a)"
   ]
  },
  {
   "cell_type": "code",
   "execution_count": 2,
   "metadata": {},
   "outputs": [
    {
     "name": "stdout",
     "output_type": "stream",
     "text": [
      "True\n"
     ]
    }
   ],
   "source": [
    "#1. Q Are 4e4 and 4E4 same? Check using a python operator.\n",
    "print(4e4==4E4)"
   ]
  },
  {
   "cell_type": "code",
   "execution_count": 3,
   "metadata": {},
   "outputs": [
    {
     "name": "stdout",
     "output_type": "stream",
     "text": [
      "real part= 3\n",
      "imaginary part= 5\n"
     ]
    }
   ],
   "source": [
    "#1. Q  if c = 3 + 5j, store it’s real and imaginary parts into r and i variables respectively.\n",
    "c=3+5j\n",
    "r=c.real\n",
    "i=c.imag\n",
    "print(\"real part=\",int(r))\n",
    "print(\"imaginary part=\",int(i))"
   ]
  },
  {
   "cell_type": "code",
   "execution_count": 4,
   "metadata": {},
   "outputs": [
    {
     "name": "stdout",
     "output_type": "stream",
     "text": [
      "2.718281828459045\n",
      "0.7182818284590451\n"
     ]
    }
   ],
   "source": [
    "#1. Q Call the euler’s number e and truncate the decimal part of the number and store that into a variable.\n",
    "import math\n",
    "e=math.exp(1)\n",
    "print(e)\n",
    "i=int(e)\n",
    "x = e-i\n",
    "print(x)"
   ]
  },
  {
   "cell_type": "code",
   "execution_count": 7,
   "metadata": {},
   "outputs": [
    {
     "name": "stdout",
     "output_type": "stream",
     "text": [
      "{'a': '1', 'b': '2', 'c': '3'}\n"
     ]
    }
   ],
   "source": [
    "#2. Pass a dictionary into a function and print the elements of the dictionary.\n",
    "def func(**d):\n",
    "  print(d)\n",
    "func(a='1',b='2',c='3')"
   ]
  },
  {
   "cell_type": "code",
   "execution_count": 8,
   "metadata": {},
   "outputs": [
    {
     "name": "stdout",
     "output_type": "stream",
     "text": [
      "Enter a number: 7\n",
      "The factorial of 7 is 5040\n"
     ]
    }
   ],
   "source": [
    "#3. Print the factorial of a user input number.\n",
    "num = int(input(\"Enter a number: \"))  \n",
    "factorial = 1  \n",
    "if num < 0:  \n",
    "   print(\"Sorry, factorial does not exist for negative numbers\")  \n",
    "elif num == 0:  \n",
    "   print(\"The factorial of 0 is 1\")  \n",
    "else:  \n",
    "   for i in range(1,num + 1):  \n",
    "       factorial = factorial*i  \n",
    "   print(\"The factorial of\",num,\"is\",factorial)"
   ]
  },
  {
   "cell_type": "code",
   "execution_count": 9,
   "metadata": {},
   "outputs": [
    {
     "name": "stdout",
     "output_type": "stream",
     "text": [
      "Enter the nth value: 100\n",
      "Fibonacci Series :  0 1 1 2 3 5 8 13 21 34 55 89 "
     ]
    }
   ],
   "source": [
    "#4. Print a Fibonacci series upto the given number.\n",
    "num = int(input(\"Enter the nth value: \"))\n",
    "a = 0\n",
    "b = 1\n",
    "sum = 0\n",
    "print(\"Fibonacci Series : \", end = \" \")\n",
    "while(sum <= num):\n",
    "     print(sum, end = \" \")\n",
    "     a = b\n",
    "     b = sum\n",
    "     sum = a + b"
   ]
  },
  {
   "cell_type": "code",
   "execution_count": 10,
   "metadata": {
    "scrolled": true
   },
   "outputs": [
    {
     "name": "stdout",
     "output_type": "stream",
     "text": [
      "Enter number of elements : 7\n",
      "Enter the numbers:\n",
      "13\n",
      "-25\n",
      "56\n",
      "-58\n",
      "15\n",
      "-36\n",
      "49\n",
      "Sum of Positive No.s: 133\n",
      "Sum of Negative No.s: -119\n",
      "POSITIVE\n"
     ]
    }
   ],
   "source": [
    "#5. Given an array of integers,find the sum of positive and negative numbers separately and print \"POSITIVE\" if sum of positive numbers is greater than theabsolute value of the sum of negative numbers, else print \"NEGATIVE\".\n",
    "num = int(input(\"Enter number of elements : \"))\n",
    "print(\"Enter the numbers:\")\n",
    "intg=[]\n",
    "i=1\n",
    "while i<=num:\n",
    "    g = int(input())\n",
    "    intg.append(g) \n",
    "    i+=1\n",
    "pos=0\n",
    "num=0\n",
    "\n",
    "for i in intg:\n",
    "\n",
    "    if i>=0:\n",
    "        pos+=i\n",
    "    else:\n",
    "        num+=i\n",
    "  \n",
    "print(\"Sum of Positive No.s:\",pos)  \n",
    "print(\"Sum of Negative No.s:\",num)  \n",
    "\n",
    "if(pos>=-num):\n",
    "    print(\"POSITIVE\")\n",
    "else:\n",
    "    print(\"NEGATIVE\")"
   ]
  },
  {
   "cell_type": "code",
   "execution_count": null,
   "metadata": {},
   "outputs": [],
   "source": []
  }
 ],
 "metadata": {
  "kernelspec": {
   "display_name": "Python 3",
   "language": "python",
   "name": "python3"
  },
  "language_info": {
   "codemirror_mode": {
    "name": "ipython",
    "version": 3
   },
   "file_extension": ".py",
   "mimetype": "text/x-python",
   "name": "python",
   "nbconvert_exporter": "python",
   "pygments_lexer": "ipython3",
   "version": "3.7.6"
  }
 },
 "nbformat": 4,
 "nbformat_minor": 4
}
